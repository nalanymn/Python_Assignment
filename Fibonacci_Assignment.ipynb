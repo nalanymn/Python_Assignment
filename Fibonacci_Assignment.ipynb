{
 "cells": [
  {
   "cell_type": "markdown",
   "id": "37ef32e9",
   "metadata": {},
   "source": [
    "Create a list consisting of Fibonacci numbers from 1 to 55 using control flow statements and range() function."
   ]
  },
  {
   "cell_type": "code",
   "execution_count": 1,
   "id": "3ead3af3",
   "metadata": {},
   "outputs": [
    {
     "name": "stdout",
     "output_type": "stream",
     "text": [
      "[1, 1, 2, 3, 5, 8, 13, 21, 34, 55]\n"
     ]
    }
   ],
   "source": [
    "num1 = 0\n",
    "num2 = 1\n",
    "f = []\n",
    "\n",
    "for i in range(1,11):\n",
    "    if(i <= 1):\n",
    "        num3 = i\n",
    "        f.append(num3)\n",
    "    else:\n",
    "        num3 = num1 + num2\n",
    "        num1 = num2\n",
    "        num2 = num3\n",
    "        f.append(num3)\n",
    "   \n",
    "print(f)\n",
    "\n"
   ]
  },
  {
   "cell_type": "code",
   "execution_count": null,
   "id": "2fe6d29d",
   "metadata": {},
   "outputs": [],
   "source": []
  },
  {
   "cell_type": "code",
   "execution_count": null,
   "id": "d465ca2e",
   "metadata": {},
   "outputs": [],
   "source": []
  },
  {
   "cell_type": "code",
   "execution_count": null,
   "id": "b7fa43c3",
   "metadata": {},
   "outputs": [],
   "source": []
  }
 ],
 "metadata": {
  "kernelspec": {
   "display_name": "Python 3",
   "language": "python",
   "name": "python3"
  },
  "language_info": {
   "codemirror_mode": {
    "name": "ipython",
    "version": 3
   },
   "file_extension": ".py",
   "mimetype": "text/x-python",
   "name": "python",
   "nbconvert_exporter": "python",
   "pygments_lexer": "ipython3",
   "version": "3.8.8"
  }
 },
 "nbformat": 4,
 "nbformat_minor": 5
}
