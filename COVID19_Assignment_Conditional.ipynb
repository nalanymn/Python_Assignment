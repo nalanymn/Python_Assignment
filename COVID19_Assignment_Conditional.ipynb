{
 "cells": [
  {
   "cell_type": "code",
   "execution_count": 1,
   "id": "ab12417b",
   "metadata": {},
   "outputs": [
    {
     "name": "stdout",
     "output_type": "stream",
     "text": [
      "Are you a cigarette addict older than 75 years old? (True/False) : True\n",
      "Do you have a severe chronic disease? (True/False) : False\n",
      "Is your immune system too weak? (True/False) : True\n",
      "You are in risky group!\n"
     ]
    }
   ],
   "source": [
    "age = bool(input(\"Are you a cigarette addict older than 75 years old? (True/False) : \"))\n",
    "\n",
    "chronic = bool(input(\"Do you have a severe chronic disease? (True/False) : \"))\n",
    "\n",
    "immune = bool(input(\"Is your immune system too weak? (True/False) : \" ))\n",
    "\n",
    "risk = bool(age or chronic or immune)\n",
    "\n",
    "if risk is True:\n",
    "\n",
    "    print(\"You are in risky group!\")\n",
    "\n",
    "else:\n",
    "\n",
    "    print(\"You are not in risky group\")\n",
    "\n"
   ]
  },
  {
   "cell_type": "code",
   "execution_count": null,
   "id": "f31ea95d",
   "metadata": {},
   "outputs": [],
   "source": []
  }
 ],
 "metadata": {
  "kernelspec": {
   "display_name": "Python 3",
   "language": "python",
   "name": "python3"
  },
  "language_info": {
   "codemirror_mode": {
    "name": "ipython",
    "version": 3
   },
   "file_extension": ".py",
   "mimetype": "text/x-python",
   "name": "python",
   "nbconvert_exporter": "python",
   "pygments_lexer": "ipython3",
   "version": "3.8.8"
  }
 },
 "nbformat": 4,
 "nbformat_minor": 5
}
