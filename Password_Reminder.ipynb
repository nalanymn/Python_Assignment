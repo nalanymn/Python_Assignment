{
 "cells": [
  {
   "cell_type": "code",
   "execution_count": 1,
   "id": "b2fbd910",
   "metadata": {},
   "outputs": [
    {
     "name": "stdout",
     "output_type": "stream",
     "text": [
      "Enter your first name : Joseph\n",
      "Hello, Joseph! The password is : W@12\n"
     ]
    }
   ],
   "source": [
    "name = \"Joseph\"\n",
    "\n",
    "password = \"W@12\"\n",
    "\n",
    "user = input(\"Enter your first name : \")\n",
    "\n",
    "if user == name:\n",
    "\n",
    "    print(\"Hello, Joseph! The password is : W@12\")\n",
    "\n",
    "else:\n",
    "\n",
    "    print(\"Hello\", user,\"! See you later.\")"
   ]
  },
  {
   "cell_type": "code",
   "execution_count": null,
   "id": "c27e63fa",
   "metadata": {},
   "outputs": [],
   "source": []
  }
 ],
 "metadata": {
  "kernelspec": {
   "display_name": "Python 3",
   "language": "python",
   "name": "python3"
  },
  "language_info": {
   "codemirror_mode": {
    "name": "ipython",
    "version": 3
   },
   "file_extension": ".py",
   "mimetype": "text/x-python",
   "name": "python",
   "nbconvert_exporter": "python",
   "pygments_lexer": "ipython3",
   "version": "3.8.8"
  }
 },
 "nbformat": 4,
 "nbformat_minor": 5
}
