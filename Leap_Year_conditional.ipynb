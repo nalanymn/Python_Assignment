{
 "cells": [
  {
   "cell_type": "code",
   "execution_count": null,
   "id": "3f781d39",
   "metadata": {},
   "outputs": [],
   "source": [
    "year = int(input(\"Enter a year:  \"))\n",
    "\n",
    "leap = (bool(year % 4 == 0) or bool(year % 100 != 0)) and bool(year % 400 == 0)  \n",
    "\n",
    "if leap == True:\n",
    "\n",
    "    print(year,\"is a leap year.\")\n",
    "\n",
    "else:\n",
    "\n",
    "    print(year,\"is not a leap year!\")"
   ]
  }
 ],
 "metadata": {
  "kernelspec": {
   "display_name": "Python 3",
   "language": "python",
   "name": "python3"
  },
  "language_info": {
   "codemirror_mode": {
    "name": "ipython",
    "version": 3
   },
   "file_extension": ".py",
   "mimetype": "text/x-python",
   "name": "python",
   "nbconvert_exporter": "python",
   "pygments_lexer": "ipython3",
   "version": "3.8.8"
  }
 },
 "nbformat": 4,
 "nbformat_minor": 5
}
