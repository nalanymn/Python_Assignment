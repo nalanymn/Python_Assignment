{
 "cells": [
  {
   "cell_type": "code",
   "execution_count": null,
   "id": "4a2a806f",
   "metadata": {},
   "outputs": [],
   "source": [
    "number = int(input(\"Enter a number : \"))\n",
    "str_num = str(number)\n",
    "len_number = len(str_num)\n",
    "digit_sum = 0\n",
    "for d in str_num:\n",
    "    digit_sum += int(d) ** len_number\n",
    "if number == digit_sum:\n",
    "    print(\"{} is an Armstrong number\".format(number))\n",
    "else:\n",
    "    print(\"{} is NOT an Armstrong number\".format(number))\n"
   ]
  }
 ],
 "metadata": {
  "kernelspec": {
   "display_name": "Python 3",
   "language": "python",
   "name": "python3"
  },
  "language_info": {
   "codemirror_mode": {
    "name": "ipython",
    "version": 3
   },
   "file_extension": ".py",
   "mimetype": "text/x-python",
   "name": "python",
   "nbconvert_exporter": "python",
   "pygments_lexer": "ipython3",
   "version": "3.8.8"
  }
 },
 "nbformat": 4,
 "nbformat_minor": 5
}
