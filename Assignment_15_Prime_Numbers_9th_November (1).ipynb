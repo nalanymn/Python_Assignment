{
 "cells": [
  {
   "cell_type": "code",
   "execution_count": 33,
   "id": "a235072b",
   "metadata": {},
   "outputs": [
    {
     "name": "stdout",
     "output_type": "stream",
     "text": [
      "[2, 3, 5, 7, 11, 13, 17, 19, 23, 29, 31, 37, 41, 43, 47, 53, 59, 61, 67, 71, 73, 79, 83, 89, 97]\n"
     ]
    }
   ],
   "source": [
    "n = list(range(4, 100))\n",
    "prime_numbers = [2, 3, 5, 7 ]\n",
    "non_prime_num = []\n",
    "for i in n :\n",
    "    if i % 2 == 0 or i % 3 == 0 or i % 5 == 0 or i % 7 == 0: \n",
    "        non_prime_num.append(i)\n",
    "    else :\n",
    "        prime_numbers.append(i)\n",
    "print(prime_numbers)"
   ]
  }
 ],
 "metadata": {
  "kernelspec": {
   "display_name": "Python 3",
   "language": "python",
   "name": "python3"
  },
  "language_info": {
   "codemirror_mode": {
    "name": "ipython",
    "version": 3
   },
   "file_extension": ".py",
   "mimetype": "text/x-python",
   "name": "python",
   "nbconvert_exporter": "python",
   "pygments_lexer": "ipython3",
   "version": "3.8.8"
  }
 },
 "nbformat": 4,
 "nbformat_minor": 5
}
